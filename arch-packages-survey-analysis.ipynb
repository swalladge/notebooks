{
 "cells": [
  {
   "cell_type": "code",
   "execution_count": 1,
   "metadata": {},
   "outputs": [],
   "source": [
    "%matplotlib inline\n",
    "\n",
    "import math\n",
    "import pandas as pd\n",
    "import matplotlib.pyplot as plt\n",
    "\n",
    "\n",
    "# pd.set_option('display.mpl_style', 'default') # Make the graphs a bit prettier\n",
    "plt.rcParams['figure.figsize'] = (15, 5)"
   ]
  },
  {
   "cell_type": "code",
   "execution_count": 2,
   "metadata": {},
   "outputs": [],
   "source": [
    "df = pd.read_csv('data/arch-survey-responses.csv')\n",
    "df.columns = ['stamp', 'packs', 'use', 'time', 'de', 'disk']"
   ]
  },
  {
   "cell_type": "code",
   "execution_count": 3,
   "metadata": {
    "scrolled": true
   },
   "outputs": [
    {
     "data": {
      "text/html": [
       "<div>\n",
       "<style scoped>\n",
       "    .dataframe tbody tr th:only-of-type {\n",
       "        vertical-align: middle;\n",
       "    }\n",
       "\n",
       "    .dataframe tbody tr th {\n",
       "        vertical-align: top;\n",
       "    }\n",
       "\n",
       "    .dataframe thead th {\n",
       "        text-align: right;\n",
       "    }\n",
       "</style>\n",
       "<table border=\"1\" class=\"dataframe\">\n",
       "  <thead>\n",
       "    <tr style=\"text-align: right;\">\n",
       "      <th></th>\n",
       "      <th>stamp</th>\n",
       "      <th>packs</th>\n",
       "      <th>use</th>\n",
       "      <th>time</th>\n",
       "      <th>de</th>\n",
       "      <th>disk</th>\n",
       "    </tr>\n",
       "  </thead>\n",
       "  <tbody>\n",
       "    <tr>\n",
       "      <th>0</th>\n",
       "      <td>2018/06/23 12:03:26 am GMT+9:30</td>\n",
       "      <td>1599</td>\n",
       "      <td>School/homework</td>\n",
       "      <td>1 year</td>\n",
       "      <td>KDE Plasma</td>\n",
       "      <td>NaN</td>\n",
       "    </tr>\n",
       "    <tr>\n",
       "      <th>1</th>\n",
       "      <td>2018/06/23 12:10:37 am GMT+9:30</td>\n",
       "      <td>861</td>\n",
       "      <td>All of the above</td>\n",
       "      <td>2 months</td>\n",
       "      <td>Xmonad</td>\n",
       "      <td>NaN</td>\n",
       "    </tr>\n",
       "    <tr>\n",
       "      <th>2</th>\n",
       "      <td>2018/06/23 12:16:30 am GMT+9:30</td>\n",
       "      <td>2176</td>\n",
       "      <td>Programming</td>\n",
       "      <td>3 years</td>\n",
       "      <td>i3</td>\n",
       "      <td>16628.0</td>\n",
       "    </tr>\n",
       "  </tbody>\n",
       "</table>\n",
       "</div>"
      ],
      "text/plain": [
       "                             stamp  packs               use      time  \\\n",
       "0  2018/06/23 12:03:26 am GMT+9:30   1599   School/homework    1 year   \n",
       "1  2018/06/23 12:10:37 am GMT+9:30    861  All of the above  2 months   \n",
       "2  2018/06/23 12:16:30 am GMT+9:30   2176       Programming   3 years   \n",
       "\n",
       "           de     disk  \n",
       "0  KDE Plasma      NaN  \n",
       "1      Xmonad      NaN  \n",
       "2          i3  16628.0  "
      ]
     },
     "execution_count": 3,
     "metadata": {},
     "output_type": "execute_result"
    }
   ],
   "source": [
    "df[:3]"
   ]
  },
  {
   "cell_type": "code",
   "execution_count": 4,
   "metadata": {},
   "outputs": [
    {
     "name": "stdout",
     "output_type": "stream",
     "text": [
      "Average number of packages installed: 1096\n"
     ]
    }
   ],
   "source": [
    "n_packages_series = df['packs']\n",
    "mean_packages = int(round(n_packages_series.mean()))\n",
    "print('Average number of packages installed: {}'.format(mean_packages))"
   ]
  },
  {
   "cell_type": "code",
   "execution_count": 5,
   "metadata": {
    "scrolled": true
   },
   "outputs": [
    {
     "name": "stdout",
     "output_type": "stream",
     "text": [
      "Average time system installed was 20 months.\n"
     ]
    },
    {
     "data": {
      "text/plain": [
       "1 year                                  21\n",
       "2 years                                 10\n",
       "3 years                                  9\n",
       "1 month                                  8\n",
       "2 months                                 6\n",
       "3 months                                 5\n",
       "8 months                                 3\n",
       "5 years                                  2\n",
       "8 years                                  2\n",
       "5 months                                 2\n",
       "when Arch was first released in 2002     1\n",
       "Name: time, dtype: int64"
      ]
     },
     "execution_count": 5,
     "metadata": {},
     "output_type": "execute_result"
    }
   ],
   "source": [
    "time_installed_series = df['time']\n",
    "\n",
    "conversions = {'1 month': 1,\n",
    " '1 year': 12,\n",
    " '2 months': 2,\n",
    " '2 years': 24,\n",
    " '3 months': 3,\n",
    " '3 years': 36,\n",
    " '5 months': 5,\n",
    " '5 years': 60,\n",
    " '8 months': 8,\n",
    " '8 years': 96,\n",
    " 'when Arch was first released in 2002': 196}\n",
    "\n",
    "time_installed_converted = pd.Series(map(lambda s:conversions[s], filter(lambda t: type(t) == str, time_installed_series)))\n",
    "time_installed = int(round(time_installed_converted.mean()))\n",
    "print('Average time system installed was {} months.'.format(time_installed))\n",
    "\n",
    "time_installed_series.value_counts()"
   ]
  },
  {
   "cell_type": "markdown",
   "metadata": {},
   "source": [
    "So is there a correlation between time since the system was installed and the number of packages installed?"
   ]
  },
  {
   "cell_type": "code",
   "execution_count": 6,
   "metadata": {},
   "outputs": [
    {
     "data": {
      "text/plain": [
       "<matplotlib.axes._subplots.AxesSubplot at 0x7fcd1705c320>"
      ]
     },
     "execution_count": 6,
     "metadata": {},
     "output_type": "execute_result"
    },
    {
     "data": {
      "image/png": "[encoded data removed]",
      "text/plain": [
       "<Figure size 432x288 with 1 Axes>"
      ]
     },
     "metadata": {},
     "output_type": "display_data"
    }
   ],
   "source": [
    "df['time_n'] = df.apply(lambda row: conversions.get(row['time']), axis=1)\n",
    "\n",
    "df.plot.scatter(x='time_n', y='packs')"
   ]
  },
  {
   "cell_type": "markdown",
   "metadata": {},
   "source": [
    "So this doesn't seem to show much... apart from the fact that there is a lot of variation."
   ]
  },
  {
   "cell_type": "code",
   "execution_count": 7,
   "metadata": {},
   "outputs": [
    {
     "data": {
      "text/plain": [
       "<matplotlib.axes._subplots.AxesSubplot at 0x7fcd14f82160>"
      ]
     },
     "execution_count": 7,
     "metadata": {},
     "output_type": "execute_result"
    },
    {
     "data": {
      "image/png": "[encoded data removed]",
      "text/plain": [
       "<Figure size 432x288 with 1 Axes>"
      ]
     },
     "metadata": {},
     "output_type": "display_data"
    }
   ],
   "source": [
    "frame = df[['packs', 'time_n']].groupby(['time_n']).mean()\n",
    "frame.plot(kind='bar')"
   ]
  },
  {
   "cell_type": "markdown",
   "metadata": {},
   "source": [
    "Ah now this is interesting. The general trend line in this case seems to start at an average of 1000 packages installed when the system is around a month old. It gradually decreases for a few months, before steadily increasing over the next few years, before remaining relatively steady. There isn't much data to go by for the points greater than 3 years, so take with a pinch of salt. Also note that the scale isn't linear...\n",
    "\n",
    "My theory with this is that an Arch user goes through several stages:\n",
    "\n",
    "1. new install: test out all the things!! (high number of packages)\n",
    "2. settling in: removing unnecessary packages and keeping the system tidy in general (decrease in packages)\n",
    "3. serious use: the system gradually is used for more things over time, and the packages build up. (steady increase)\n",
    "4. home sweet home: everything you'll ever need is installed. Yes there's some cruft, but why bother tidying up since it all just works?\n",
    "\n",
    "¯\\\\_(ツ)\\_/¯"
   ]
  }
 ],
 "metadata": {
  "kernelspec": {
   "display_name": "Python 3",
   "language": "python",
   "name": "python3"
  },
  "language_info": {
   "codemirror_mode": {
    "name": "ipython",
    "version": 3
   },
   "file_extension": ".py",
   "mimetype": "text/x-python",
   "name": "python",
   "nbconvert_exporter": "python",
   "pygments_lexer": "ipython3",
   "version": "3.6.6"
  }
 },
 "nbformat": 4,
 "nbformat_minor": 2
}
