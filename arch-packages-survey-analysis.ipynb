{
 "cells": [
  {
   "cell_type": "markdown",
   "metadata": {},
   "source": [
    "# Arch packages survey analysis\n",
    "\n",
    "What follows is a short analysis of the data gathered through the [Arch packages survey](https://goo.gl/forms/y471TrkSofkByoJA3) I ran a few weeks back. It gathered approximately 70 responses (a nice number, but some stats are stretched a bit thin - if you haven't filled in the survey and would like to, please do!). Unfortunately due to some stats having so few data points, some results probably aren't very indicative of reality... :/ Nevermind, let's have fun checking out the results anyway!\n",
    "\n",
    "This document was written in Jupyter notebook. Whether you're reading this on my blog as a static page, or in a Jupyter notebook viewer, the ipynb source and csv data file from the survey can be found [on GitHub](https://github.com/swalladge/notebooks). Finally, this is my first experiment with Jupyter and pandas; feedback, comments, and bug reports welcome!\n",
    "\n",
    "Anyway, without further ago, let's load the data:"
   ]
  },
  {
   "cell_type": "code",
   "execution_count": 1,
   "metadata": {},
   "outputs": [
    {
     "data": {
      "text/html": [
       "<div>\n",
       "<style scoped>\n",
       "    .dataframe tbody tr th:only-of-type {\n",
       "        vertical-align: middle;\n",
       "    }\n",
       "\n",
       "    .dataframe tbody tr th {\n",
       "        vertical-align: top;\n",
       "    }\n",
       "\n",
       "    .dataframe thead th {\n",
       "        text-align: right;\n",
       "    }\n",
       "</style>\n",
       "<table border=\"1\" class=\"dataframe\">\n",
       "  <thead>\n",
       "    <tr style=\"text-align: right;\">\n",
       "      <th></th>\n",
       "      <th>stamp</th>\n",
       "      <th>packs</th>\n",
       "      <th>use</th>\n",
       "      <th>time</th>\n",
       "      <th>de</th>\n",
       "      <th>disk</th>\n",
       "    </tr>\n",
       "  </thead>\n",
       "  <tbody>\n",
       "    <tr>\n",
       "      <th>0</th>\n",
       "      <td>2018/06/23 12:03:26 am GMT+9:30</td>\n",
       "      <td>1599</td>\n",
       "      <td>School/homework</td>\n",
       "      <td>1 year</td>\n",
       "      <td>KDE Plasma</td>\n",
       "      <td>NaN</td>\n",
       "    </tr>\n",
       "    <tr>\n",
       "      <th>1</th>\n",
       "      <td>2018/06/23 12:10:37 am GMT+9:30</td>\n",
       "      <td>861</td>\n",
       "      <td>All of the above</td>\n",
       "      <td>2 months</td>\n",
       "      <td>Xmonad</td>\n",
       "      <td>NaN</td>\n",
       "    </tr>\n",
       "    <tr>\n",
       "      <th>2</th>\n",
       "      <td>2018/06/23 12:16:30 am GMT+9:30</td>\n",
       "      <td>2176</td>\n",
       "      <td>Programming</td>\n",
       "      <td>3 years</td>\n",
       "      <td>i3</td>\n",
       "      <td>16628.0</td>\n",
       "    </tr>\n",
       "  </tbody>\n",
       "</table>\n",
       "</div>"
      ],
      "text/plain": [
       "                             stamp  packs               use      time  \\\n",
       "0  2018/06/23 12:03:26 am GMT+9:30   1599   School/homework    1 year   \n",
       "1  2018/06/23 12:10:37 am GMT+9:30    861  All of the above  2 months   \n",
       "2  2018/06/23 12:16:30 am GMT+9:30   2176       Programming   3 years   \n",
       "\n",
       "           de     disk  \n",
       "0  KDE Plasma      NaN  \n",
       "1      Xmonad      NaN  \n",
       "2          i3  16628.0  "
      ]
     },
     "execution_count": 1,
     "metadata": {},
     "output_type": "execute_result"
    }
   ],
   "source": [
    "%matplotlib inline\n",
    "\n",
    "import math\n",
    "import pandas as pd\n",
    "import matplotlib.pyplot as plt\n",
    "\n",
    "\n",
    "# pd.set_option('display.mpl_style', 'default') # Make the graphs a bit prettier\n",
    "plt.rcParams['figure.figsize'] = (15, 5)\n",
    "\n",
    "df = pd.read_csv('data/arch-survey-responses.csv')\n",
    "df.columns = ['stamp', 'packs', 'use', 'time', 'de', 'disk']\n",
    "\n",
    "# quick inspection\n",
    "df[:3]"
   ]
  },
  {
   "cell_type": "markdown",
   "metadata": {},
   "source": [
    "Ok, data loaded! Let's run through some overall stats:"
   ]
  },
  {
   "cell_type": "code",
   "execution_count": 2,
   "metadata": {},
   "outputs": [
    {
     "name": "stdout",
     "output_type": "stream",
     "text": [
      "Average number of packages installed: 1112\n"
     ]
    }
   ],
   "source": [
    "mean_packages = int(round(df['packs'].mean()))\n",
    "print('Average number of packages installed: {}'.format(mean_packages))"
   ]
  },
  {
   "cell_type": "code",
   "execution_count": 3,
   "metadata": {
    "scrolled": true
   },
   "outputs": [
    {
     "name": "stdout",
     "output_type": "stream",
     "text": [
      "Average time system installed was 18 months.\n"
     ]
    },
    {
     "data": {
      "text/plain": [
       "1 year      21\n",
       "2 years     10\n",
       "3 years      9\n",
       "1 month      8\n",
       "2 months     6\n",
       "3 months     5\n",
       "8 months     3\n",
       "5 months     2\n",
       "8 years      2\n",
       "5 years      2\n",
       "Name: time, dtype: int64"
      ]
     },
     "execution_count": 3,
     "metadata": {},
     "output_type": "execute_result"
    }
   ],
   "source": [
    "time_installed_series = df['time']\n",
    "\n",
    "conversions = {'1 month': 1,\n",
    " '1 year': 12,\n",
    " '2 months': 2,\n",
    " '2 years': 24,\n",
    " '3 months': 3,\n",
    " '3 years': 36,\n",
    " '5 months': 5,\n",
    " '5 years': 60,\n",
    " '8 months': 8,\n",
    " '8 years': 96,\n",
    " 'when Arch was first released in 2002': 196}\n",
    "\n",
    "time_installed_converted = pd.Series(map(lambda s:conversions[s], filter(lambda t: type(t) == str, time_installed_series)))\n",
    "time_installed = int(round(time_installed_converted.mean()))\n",
    "print('Average time system installed was {} months.'.format(time_installed))\n",
    "\n",
    "time_installed_series.value_counts()"
   ]
  },
  {
   "cell_type": "markdown",
   "metadata": {},
   "source": [
    "So is there a correlation between time since the system was installed and the number of packages installed?"
   ]
  },
  {
   "cell_type": "code",
   "execution_count": 4,
   "metadata": {},
   "outputs": [
    {
     "data": {
      "text/plain": [
       "<matplotlib.axes._subplots.AxesSubplot at 0x7f8d15305048>"
      ]
     },
     "execution_count": 4,
     "metadata": {},
     "output_type": "execute_result"
    },
    {
     "data": {
      "image/png": "[encoded data removed]",
      "text/plain": [
       "<Figure size 432x288 with 1 Axes>"
      ]
     },
     "metadata": {},
     "output_type": "display_data"
    }
   ],
   "source": [
    "df['time_n'] = df.apply(lambda row: conversions.get(row['time']), axis=1)\n",
    "\n",
    "df.plot.scatter(x='time_n', y='packs')"
   ]
  },
  {
   "cell_type": "markdown",
   "metadata": {},
   "source": [
    "So this doesn't seem to show much... apart from the fact that there is a lot of variation and not much data for older installs."
   ]
  },
  {
   "cell_type": "code",
   "execution_count": 5,
   "metadata": {},
   "outputs": [
    {
     "data": {
      "text/plain": [
       "<matplotlib.axes._subplots.AxesSubplot at 0x7f8d13284198>"
      ]
     },
     "execution_count": 5,
     "metadata": {},
     "output_type": "execute_result"
    },
    {
     "data": {
      "image/png": "[encoded data removed]",
      "text/plain": [
       "<Figure size 432x288 with 1 Axes>"
      ]
     },
     "metadata": {},
     "output_type": "display_data"
    }
   ],
   "source": [
    "frame = df[['packs', 'time_n']].groupby(['time_n']).mean()\n",
    "frame.plot(kind='bar')"
   ]
  },
  {
   "cell_type": "markdown",
   "metadata": {},
   "source": [
    "Ah now this is interesting. The general trend line in this case seems to start at an average of 1000 packages installed when the system is around a month old. It gradually decreases for a few months, before steadily increasing over the next few years, before remaining relatively steady. There isn't much data to go by for the points greater than 3 years, so take with a pinch of salt. Also note that the scale isn't linear...\n",
    "\n",
    "My theory with this is that an Arch user goes through several stages:\n",
    "\n",
    "1. new install: test out all the things!! (high number of packages)\n",
    "2. settling in: removing unnecessary packages and keeping the system tidy in general (decrease in packages)\n",
    "3. serious use: the system gradually is used for more things over time, and the packages build up. (steady increase)\n",
    "4. home sweet home: everything you'll ever need is installed. Yes there's some cruft, but why bother tidying up since it all just works?\n",
    "\n",
    "¯\\\\\\_(ツ)\\_/¯\n",
    "\n",
    "\n",
    "---\n",
    "\n",
    "Now let's see the average number of packages installed split by type of use the machine sees:"
   ]
  },
  {
   "cell_type": "code",
   "execution_count": 12,
   "metadata": {},
   "outputs": [
    {
     "data": {
      "text/plain": [
       "<matplotlib.axes._subplots.AxesSubplot at 0x7f8d12eaacf8>"
      ]
     },
     "execution_count": 12,
     "metadata": {},
     "output_type": "execute_result"
    },
    {
     "data": {
      "image/png": "[encoded data removed]",
      "text/plain": [
       "<Figure size 432x288 with 1 Axes>"
      ]
     },
     "metadata": {},
     "output_type": "display_data"
    }
   ],
   "source": [
    "df[['packs', 'use']].groupby('use').mean().sort_values(by='packs').plot(kind='bar')"
   ]
  },
  {
   "cell_type": "markdown",
   "metadata": {},
   "source": [
    "It should be noted that \"Office work\" and \"travel laptop\" had one response each; they were entered manually under the 'other' category. Some other responses were normalized under 'subset of the above'. \n",
    "\n",
    "3 respondants entered \"Server software\", and (unsurprisingly) these machines averaged the lowest package count. Interestingly, \"School/homework\" had the largest number of packages. Maybe due to requiring extra miscellanious software?\n",
    "\n",
    "Next, let's view the package count by desktop environment:"
   ]
  },
  {
   "cell_type": "code",
   "execution_count": 7,
   "metadata": {},
   "outputs": [
    {
     "data": {
      "text/plain": [
       "<matplotlib.axes._subplots.AxesSubplot at 0x7f8d1318c550>"
      ]
     },
     "execution_count": 7,
     "metadata": {},
     "output_type": "execute_result"
    },
    {
     "data": {
      "image/png": "[encoded data removed]",
      "text/plain": [
       "<Figure size 432x288 with 1 Axes>"
      ]
     },
     "metadata": {},
     "output_type": "display_data"
    }
   ],
   "source": [
    "df[['packs', 'de']].groupby('de').mean().sort_values(by='packs').plot(kind='bar')"
   ]
  },
  {
   "cell_type": "markdown",
   "metadata": {},
   "source": [
    "Now this is a trend that neatly fits general perception of the \"weight\" of a system. Headless or terminal-only systems had the least packages. Full desktop environments had the most packages. Finally, machines with \"lighter\" DEs and window managers sat in the middle of the package count. Interestingly, Awesome WM users had a larger number of packages on average than other light WM/DE users.\n",
    "\n",
    "\n",
    "I've run out of ideas for other possible graphs to do. Suggestions welcome! ;) As previously said, the csv data file of responses is available in the [git repository on GitHub](https://github.com/swalladge/notebooks).\n",
    "\n",
    "Hope this was interesting! I enjoying experimenting with some data and learning Jupyter notebook and pandas anyway. :)\n",
    "\n",
    "As always, feel free to leave comments on my blog, ping me on Twitter ([@srwalladge](https://twitter.com/srwalladge), or [contact me by another means](https://swalladge.id.au/contact/)."
   ]
  }
 ],
 "metadata": {
  "kernelspec": {
   "display_name": "Python 3",
   "language": "python",
   "name": "python3"
  },
  "language_info": {
   "codemirror_mode": {
    "name": "ipython",
    "version": 3
   },
   "file_extension": ".py",
   "mimetype": "text/x-python",
   "name": "python",
   "nbconvert_exporter": "python",
   "pygments_lexer": "ipython3",
   "version": "3.8.1"
  }
 },
 "nbformat": 4,
 "nbformat_minor": 2
}
