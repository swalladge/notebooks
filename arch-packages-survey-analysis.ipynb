{
 "cells": [
  {
   "cell_type": "code",
   "execution_count": 2,
   "metadata": {},
   "outputs": [],
   "source": [
    "%matplotlib inline\n",
    "\n",
    "import pandas as pd\n",
    "import matplotlib.pyplot as plt\n",
    "\n",
    "# pd.set_option('display.mpl_style', 'default') # Make the graphs a bit prettier\n",
    "plt.rcParams['figure.figsize'] = (15, 5)"
   ]
  },
  {
   "cell_type": "markdown",
   "metadata": {},
   "source": [
    "bla"
   ]
  },
  {
   "cell_type": "code",
   "execution_count": 4,
   "metadata": {},
   "outputs": [],
   "source": [
    "df = pd.read_csv('data/arch-survey-responses.csv')"
   ]
  },
  {
   "cell_type": "code",
   "execution_count": 8,
   "metadata": {},
   "outputs": [
    {
     "data": {
      "text/html": [
       "<div>\n",
       "<style scoped>\n",
       "    .dataframe tbody tr th:only-of-type {\n",
       "        vertical-align: middle;\n",
       "    }\n",
       "\n",
       "    .dataframe tbody tr th {\n",
       "        vertical-align: top;\n",
       "    }\n",
       "\n",
       "    .dataframe thead th {\n",
       "        text-align: right;\n",
       "    }\n",
       "</style>\n",
       "<table border=\"1\" class=\"dataframe\">\n",
       "  <thead>\n",
       "    <tr style=\"text-align: right;\">\n",
       "      <th></th>\n",
       "      <th>Timestamp</th>\n",
       "      <th>How many packages are installed on your machine?</th>\n",
       "      <th>This machine is used primarily for:</th>\n",
       "      <th>Approximately how long ago was the current Arch system on the machine installed?</th>\n",
       "      <th>What desktop environment / window manager is the machine usually running?</th>\n",
       "      <th>What is the total disk space that all the installed packages use? (in MiB)</th>\n",
       "    </tr>\n",
       "  </thead>\n",
       "  <tbody>\n",
       "    <tr>\n",
       "      <th>0</th>\n",
       "      <td>2018/06/23 12:03:26 am GMT+9:30</td>\n",
       "      <td>1599</td>\n",
       "      <td>School/homework</td>\n",
       "      <td>1 year</td>\n",
       "      <td>KDE Plasma</td>\n",
       "      <td>NaN</td>\n",
       "    </tr>\n",
       "    <tr>\n",
       "      <th>1</th>\n",
       "      <td>2018/06/23 12:10:37 am GMT+9:30</td>\n",
       "      <td>861</td>\n",
       "      <td>All of the above</td>\n",
       "      <td>2 months</td>\n",
       "      <td>Xmonad</td>\n",
       "      <td>NaN</td>\n",
       "    </tr>\n",
       "    <tr>\n",
       "      <th>2</th>\n",
       "      <td>2018/06/23 12:16:30 am GMT+9:30</td>\n",
       "      <td>2176</td>\n",
       "      <td>Programming</td>\n",
       "      <td>3 years</td>\n",
       "      <td>i3</td>\n",
       "      <td>16628.0</td>\n",
       "    </tr>\n",
       "  </tbody>\n",
       "</table>\n",
       "</div>"
      ],
      "text/plain": [
       "                         Timestamp  \\\n",
       "0  2018/06/23 12:03:26 am GMT+9:30   \n",
       "1  2018/06/23 12:10:37 am GMT+9:30   \n",
       "2  2018/06/23 12:16:30 am GMT+9:30   \n",
       "\n",
       "   How many packages are installed on your machine?  \\\n",
       "0                                              1599   \n",
       "1                                               861   \n",
       "2                                              2176   \n",
       "\n",
       "  This machine is used primarily for:  \\\n",
       "0                     School/homework   \n",
       "1                    All of the above   \n",
       "2                         Programming   \n",
       "\n",
       "  Approximately how long ago was the current Arch system on the machine installed?  \\\n",
       "0                                             1 year                                 \n",
       "1                                           2 months                                 \n",
       "2                                            3 years                                 \n",
       "\n",
       "  What desktop environment / window manager is the machine usually running?  \\\n",
       "0                                         KDE Plasma                          \n",
       "1                                             Xmonad                          \n",
       "2                                                 i3                          \n",
       "\n",
       "   What is the total disk space that all the installed packages use? (in MiB)  \n",
       "0                                                NaN                           \n",
       "1                                                NaN                           \n",
       "2                                            16628.0                           "
      ]
     },
     "execution_count": 8,
     "metadata": {},
     "output_type": "execute_result"
    }
   ],
   "source": [
    "df[:3]"
   ]
  }
 ],
 "metadata": {
  "kernelspec": {
   "display_name": "Python 3",
   "language": "python",
   "name": "python3"
  },
  "language_info": {
   "codemirror_mode": {
    "name": "ipython",
    "version": 3
   },
   "file_extension": ".py",
   "mimetype": "text/x-python",
   "name": "python",
   "nbconvert_exporter": "python",
   "pygments_lexer": "ipython3",
   "version": "3.6.6"
  }
 },
 "nbformat": 4,
 "nbformat_minor": 2
}
